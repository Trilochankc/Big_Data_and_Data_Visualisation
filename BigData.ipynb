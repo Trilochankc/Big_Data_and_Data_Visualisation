{
  "nbformat": 4,
  "nbformat_minor": 0,
  "metadata": {
    "colab": {
      "provenance": []
    },
    "kernelspec": {
      "name": "python3",
      "display_name": "Python 3"
    },
    "language_info": {
      "name": "python"
    }
  },
  "cells": [
    {
      "cell_type": "code",
      "execution_count": 45,
      "metadata": {
        "colab": {
          "base_uri": "https://localhost:8080/"
        },
        "id": "YESWVh4kLF57",
        "outputId": "c481c4e7-6280-4bd8-cb37-a7da036c08a7"
      },
      "outputs": [
        {
          "output_type": "stream",
          "name": "stdout",
          "text": [
            "Requirement already satisfied: pyspark in /usr/local/lib/python3.10/dist-packages (3.5.1)\n",
            "Requirement already satisfied: py4j==0.10.9.7 in /usr/local/lib/python3.10/dist-packages (from pyspark) (0.10.9.7)\n"
          ]
        }
      ],
      "source": [
        "!pip install pyspark"
      ]
    },
    {
      "cell_type": "code",
      "source": [
        "from pyspark.sql.functions import expr\n",
        "from pyspark.sql import SparkSession\n",
        "from pyspark.sql.functions import col, isnan, when, count\n",
        "from pyspark.ml.feature import PolynomialExpansion\n",
        "from pyspark.ml.feature import VectorAssembler\n",
        "from pyspark.ml.feature import VectorIndexer\n",
        "from pyspark.ml.feature import OneHotEncoder\n",
        "from pyspark.ml.feature import StringIndexer\n",
        "from pyspark.ml.feature import PolynomialExpansion"
      ],
      "metadata": {
        "id": "pVYqUfGKLapS"
      },
      "execution_count": 5,
      "outputs": []
    },
    {
      "cell_type": "code",
      "source": [
        "import seaborn as sns\n",
        "import matplotlib.pyplot as plt\n",
        "import pandas as pd\n"
      ],
      "metadata": {
        "id": "77mulC3OL8SX"
      },
      "execution_count": 20,
      "outputs": []
    },
    {
      "cell_type": "code",
      "source": [
        "\n",
        "\n",
        "spark = SparkSession.builder.appName(\"Diamonds\").getOrCreate()"
      ],
      "metadata": {
        "id": "V7KROjbGMCud"
      },
      "execution_count": 7,
      "outputs": []
    },
    {
      "cell_type": "code",
      "source": [
        "data = spark.read.csv(\"diamonds.csv\",\n",
        "                      inferSchema = True, header = True)\n",
        "\n",
        "data.show(5, truncate = False)"
      ],
      "metadata": {
        "colab": {
          "base_uri": "https://localhost:8080/"
        },
        "id": "lu3AVOWbMEWV",
        "outputId": "0800b22a-937f-4de1-ef57-836e49181e16"
      },
      "execution_count": 8,
      "outputs": [
        {
          "output_type": "stream",
          "name": "stdout",
          "text": [
            "+---+-----+-------+-----+-------+-----+-----+-----+----+----+----+\n",
            "|_c0|carat|cut    |color|clarity|depth|table|price|x   |y   |z   |\n",
            "+---+-----+-------+-----+-------+-----+-----+-----+----+----+----+\n",
            "|1  |0.23 |Ideal  |E    |SI2    |61.5 |55.0 |326  |3.95|3.98|2.43|\n",
            "|2  |0.21 |Premium|E    |SI1    |59.8 |61.0 |326  |3.89|3.84|2.31|\n",
            "|3  |0.23 |Good   |E    |VS1    |56.9 |65.0 |327  |4.05|4.07|2.31|\n",
            "|4  |0.29 |Premium|I    |VS2    |62.4 |58.0 |334  |4.2 |4.23|2.63|\n",
            "|5  |0.31 |Good   |J    |SI2    |63.3 |58.0 |335  |4.34|4.35|2.75|\n",
            "+---+-----+-------+-----+-------+-----+-----+-----+----+----+----+\n",
            "only showing top 5 rows\n",
            "\n"
          ]
        }
      ]
    },
    {
      "cell_type": "code",
      "source": [
        "data = data.select(data.columns[1:])"
      ],
      "metadata": {
        "id": "ZtMeeKnjMIM5"
      },
      "execution_count": 9,
      "outputs": []
    },
    {
      "cell_type": "code",
      "source": [
        "data=data.dropna()\n",
        "print(data.count())"
      ],
      "metadata": {
        "colab": {
          "base_uri": "https://localhost:8080/"
        },
        "id": "wRzm7Kcga5BK",
        "outputId": "a1a1268a-88c4-4727-fad7-560ebc63c1f2"
      },
      "execution_count": 10,
      "outputs": [
        {
          "output_type": "stream",
          "name": "stdout",
          "text": [
            "53940\n"
          ]
        }
      ]
    },
    {
      "cell_type": "code",
      "source": [
        "from pyspark.sql.functions import col, isnan, when, count\n",
        "\n",
        "# Count missing values in each column\n",
        "missing_counts = data.select([count(when(isnan(c) | col(c).isNull(), c)).alias(c) for c in data.columns])\n",
        "missing_counts.show()"
      ],
      "metadata": {
        "colab": {
          "base_uri": "https://localhost:8080/"
        },
        "id": "Wk1UrzZ9bxKw",
        "outputId": "066fec33-7221-4e4a-e367-f7c4479df309"
      },
      "execution_count": 11,
      "outputs": [
        {
          "output_type": "stream",
          "name": "stdout",
          "text": [
            "+-----+---+-----+-------+-----+-----+-----+---+---+---+\n",
            "|carat|cut|color|clarity|depth|table|price|  x|  y|  z|\n",
            "+-----+---+-----+-------+-----+-----+-----+---+---+---+\n",
            "|    0|  0|    0|      0|    0|    0|    0|  0|  0|  0|\n",
            "+-----+---+-----+-------+-----+-----+-----+---+---+---+\n",
            "\n"
          ]
        }
      ]
    },
    {
      "cell_type": "code",
      "source": [
        "# Validate 'cut' column against predefined categories\n",
        "valid_cut_categories = ['Premium', 'Ideal', 'Good', 'Fair', 'Very Good']\n",
        "data_filtered = data.filter(data['cut'].isin(valid_cut_categories))\n"
      ],
      "metadata": {
        "id": "7WR3YufMcaoX"
      },
      "execution_count": 12,
      "outputs": []
    },
    {
      "cell_type": "code",
      "source": [
        "data.printSchema()"
      ],
      "metadata": {
        "colab": {
          "base_uri": "https://localhost:8080/"
        },
        "id": "9ae5xISHMKGO",
        "outputId": "369169ac-5be2-4d35-8f76-ae979d516d79"
      },
      "execution_count": 13,
      "outputs": [
        {
          "output_type": "stream",
          "name": "stdout",
          "text": [
            "root\n",
            " |-- carat: double (nullable = true)\n",
            " |-- cut: string (nullable = true)\n",
            " |-- color: string (nullable = true)\n",
            " |-- clarity: string (nullable = true)\n",
            " |-- depth: double (nullable = true)\n",
            " |-- table: double (nullable = true)\n",
            " |-- price: integer (nullable = true)\n",
            " |-- x: double (nullable = true)\n",
            " |-- y: double (nullable = true)\n",
            " |-- z: double (nullable = true)\n",
            "\n"
          ]
        }
      ]
    },
    {
      "cell_type": "code",
      "source": [
        "data.groupBy(\"cut\").count().show()"
      ],
      "metadata": {
        "colab": {
          "base_uri": "https://localhost:8080/"
        },
        "id": "k7Op8ffOMNcI",
        "outputId": "7333ad74-f4de-4899-a8b6-56e7cdfe7803"
      },
      "execution_count": 14,
      "outputs": [
        {
          "output_type": "stream",
          "name": "stdout",
          "text": [
            "+---------+-----+\n",
            "|      cut|count|\n",
            "+---------+-----+\n",
            "|  Premium|13791|\n",
            "|    Ideal|21551|\n",
            "|     Good| 4906|\n",
            "|     Fair| 1610|\n",
            "|Very Good|12082|\n",
            "+---------+-----+\n",
            "\n"
          ]
        }
      ]
    },
    {
      "cell_type": "code",
      "source": [
        "data.groupBy(\"clarity\").count().show()"
      ],
      "metadata": {
        "colab": {
          "base_uri": "https://localhost:8080/"
        },
        "id": "4OQ4OglsMOKi",
        "outputId": "95ddce7f-0717-47a3-f832-b69e4d540e6b"
      },
      "execution_count": 15,
      "outputs": [
        {
          "output_type": "stream",
          "name": "stdout",
          "text": [
            "+-------+-----+\n",
            "|clarity|count|\n",
            "+-------+-----+\n",
            "|   VVS2| 5066|\n",
            "|    SI1|13065|\n",
            "|     IF| 1790|\n",
            "|     I1|  741|\n",
            "|   VVS1| 3655|\n",
            "|    VS2|12258|\n",
            "|    SI2| 9194|\n",
            "|    VS1| 8171|\n",
            "+-------+-----+\n",
            "\n"
          ]
        }
      ]
    },
    {
      "cell_type": "code",
      "source": [
        "numeric_cols = [col for col, dtype in data.dtypes if dtype != \"string\"]\n",
        "numeric_cols = [col for col in numeric_cols if col != \"price\"]"
      ],
      "metadata": {
        "id": "iHQ2CfP1MUYE"
      },
      "execution_count": 16,
      "outputs": []
    },
    {
      "cell_type": "code",
      "source": [
        "for col in numeric_cols:\n",
        "    corr = data.corr(col, \"price\")\n",
        "    print(f\"The correlation between {col} and price is {round(corr, 2)}\")\n"
      ],
      "metadata": {
        "colab": {
          "base_uri": "https://localhost:8080/"
        },
        "id": "vTlFY5_IMWqV",
        "outputId": "503204d3-f201-44d0-f11d-89d8cea82afb"
      },
      "execution_count": 17,
      "outputs": [
        {
          "output_type": "stream",
          "name": "stdout",
          "text": [
            "The correlation between carat and price is 0.92\n",
            "The correlation between depth and price is -0.01\n",
            "The correlation between table and price is 0.13\n",
            "The correlation between x and price is 0.88\n",
            "The correlation between y and price is 0.87\n",
            "The correlation between z and price is 0.86\n"
          ]
        }
      ]
    },
    {
      "cell_type": "code",
      "source": [
        "# Calculate correlation for each pair of numeric columns\n",
        "correlations = {}\n",
        "for col1 in numeric_cols:\n",
        "    for col2 in numeric_cols:\n",
        "        corr_value = data.corr(col1, col2)\n",
        "        if col1 not in correlations:\n",
        "            correlations[col1] = {}\n",
        "        correlations[col1][col2] = corr_value\n",
        "\n",
        "# Convert the correlation dictionary to a pandas DataFrame\n",
        "corr_matrix = pd.DataFrame(correlations)\n",
        "\n",
        "# Add the correlation of each numeric column with the price\n",
        "price_corr = [data.corr(col, \"price\") for col in numeric_cols]\n",
        "corr_matrix[\"price\"] = price_corr\n",
        "corr_matrix.loc[\"price\"] = price_corr + [1.0]\n",
        "\n",
        "# Print the correlation matrix\n",
        "print(corr_matrix)\n",
        "\n",
        "# Plot the correlation matrix\n",
        "plt.figure(figsize=(10, 8))\n",
        "sns.heatmap(corr_matrix, annot=True, cmap=\"coolwarm\", vmin=-1, vmax=1)\n",
        "plt.title(\"Correlation Matrix\")\n",
        "plt.show()"
      ],
      "metadata": {
        "colab": {
          "base_uri": "https://localhost:8080/",
          "height": 838
        },
        "id": "OBXstox6Y-Qq",
        "outputId": "d4b07bed-0d8a-481b-8932-a21761020e0a"
      },
      "execution_count": 21,
      "outputs": [
        {
          "output_type": "stream",
          "name": "stdout",
          "text": [
            "          carat     depth     table         x         y         z     price\n",
            "carat  1.000000  0.028224  0.181618  0.975094  0.951722  0.953387  0.921591\n",
            "depth  0.028224  1.000000 -0.295779 -0.025289 -0.029341  0.094924 -0.010647\n",
            "table  0.181618 -0.295779  1.000000  0.195344  0.183760  0.150929  0.127134\n",
            "x      0.975094 -0.025289  0.195344  1.000000  0.974701  0.970772  0.884435\n",
            "y      0.951722 -0.029341  0.183760  0.974701  1.000000  0.952006  0.865421\n",
            "z      0.953387  0.094924  0.150929  0.970772  0.952006  1.000000  0.861249\n",
            "price  0.921591 -0.010647  0.127134  0.884435  0.865421  0.861249  1.000000\n"
          ]
        },
        {
          "output_type": "display_data",
          "data": {
            "text/plain": [
              "<Figure size 1000x800 with 2 Axes>"
            ],
            "image/png": "[encoded data removed]"
          },
          "metadata": {}
        }
      ]
    },
    {
      "cell_type": "code",
      "source": [
        "string_cols = [col for col, dtype in data.dtypes if dtype == \"string\"]\n",
        "\n",
        "for col in string_cols:\n",
        "    print(f\"Relationships for the column {col}\")\n",
        "    data.groupBy(col).agg({\"price\": \"mean\"}).show()\n",
        "    print(\"------------------------------------------------------\")\n"
      ],
      "metadata": {
        "colab": {
          "base_uri": "https://localhost:8080/"
        },
        "id": "A-VsLSg_MYVe",
        "outputId": "f89ca643-83f8-47ed-e1ff-4fb2dc74db05"
      },
      "execution_count": 18,
      "outputs": [
        {
          "output_type": "stream",
          "name": "stdout",
          "text": [
            "Relationships for the column cut\n",
            "+---------+------------------+\n",
            "|      cut|        avg(price)|\n",
            "+---------+------------------+\n",
            "|  Premium|4584.2577042999055|\n",
            "|    Ideal| 3457.541970210199|\n",
            "|     Good| 3928.864451691806|\n",
            "|     Fair| 4358.757763975155|\n",
            "|Very Good|3981.7598907465654|\n",
            "+---------+------------------+\n",
            "\n",
            "------------------------------------------------------\n",
            "Relationships for the column color\n",
            "+-----+------------------+\n",
            "|color|        avg(price)|\n",
            "+-----+------------------+\n",
            "|    F| 3724.886396981765|\n",
            "|    E|3076.7524752475247|\n",
            "|    D|3169.9540959409596|\n",
            "|    J|  5323.81801994302|\n",
            "|    G| 3999.135671271697|\n",
            "|    I| 5091.874953891553|\n",
            "|    H| 4486.669195568401|\n",
            "+-----+------------------+\n",
            "\n",
            "------------------------------------------------------\n",
            "Relationships for the column clarity\n",
            "+-------+------------------+\n",
            "|clarity|        avg(price)|\n",
            "+-------+------------------+\n",
            "|   VVS2| 3283.737070667193|\n",
            "|    SI1| 3996.001148105626|\n",
            "|     IF| 2864.839106145251|\n",
            "|     I1|3924.1686909581645|\n",
            "|   VVS1|   2523.1146374829|\n",
            "|    VS2| 3924.989394681025|\n",
            "|    SI2| 5063.028605612356|\n",
            "|    VS1|3839.4553910170116|\n",
            "+-------+------------------+\n",
            "\n",
            "------------------------------------------------------\n"
          ]
        }
      ]
    },
    {
      "cell_type": "code",
      "source": [
        "for col in numeric_cols:\n",
        "    print(f\"For col {col}\")\n",
        "    avg_value = round(data.select(expr(f\"AVG({col})\")).collect()[0][0], 2)\n",
        "    std_value = round(data.select(expr(f\"STD({col})\")).collect()[0][0], 2)\n",
        "    data.select(expr(f\"(ABS({col} - {avg_value}) / {std_value}) > 3\").alias(\"z_score\")).groupBy(\"z_score\").count().show()"
      ],
      "metadata": {
        "colab": {
          "base_uri": "https://localhost:8080/"
        },
        "id": "XobqGo_dMslO",
        "outputId": "e7622a61-ecdb-4d93-d4fe-9adaf482ede7"
      },
      "execution_count": 22,
      "outputs": [
        {
          "output_type": "stream",
          "name": "stdout",
          "text": [
            "For col carat\n",
            "+-------+-----+\n",
            "|z_score|count|\n",
            "+-------+-----+\n",
            "|   true|  439|\n",
            "|  false|53501|\n",
            "+-------+-----+\n",
            "\n",
            "For col depth\n",
            "+-------+-----+\n",
            "|z_score|count|\n",
            "+-------+-----+\n",
            "|   true|  685|\n",
            "|  false|53255|\n",
            "+-------+-----+\n",
            "\n",
            "For col table\n",
            "+-------+-----+\n",
            "|z_score|count|\n",
            "+-------+-----+\n",
            "|   true|  336|\n",
            "|  false|53604|\n",
            "+-------+-----+\n",
            "\n",
            "For col x\n",
            "+-------+-----+\n",
            "|z_score|count|\n",
            "+-------+-----+\n",
            "|   true|   43|\n",
            "|  false|53897|\n",
            "+-------+-----+\n",
            "\n",
            "For col y\n",
            "+-------+-----+\n",
            "|z_score|count|\n",
            "+-------+-----+\n",
            "|   true|   34|\n",
            "|  false|53906|\n",
            "+-------+-----+\n",
            "\n",
            "For col z\n",
            "+-------+-----+\n",
            "|z_score|count|\n",
            "+-------+-----+\n",
            "|   true|   52|\n",
            "|  false|53888|\n",
            "+-------+-----+\n",
            "\n"
          ]
        }
      ]
    },
    {
      "cell_type": "code",
      "source": [
        "df = data.groupBy(\"cut\").count().toPandas()\n",
        "df"
      ],
      "metadata": {
        "colab": {
          "base_uri": "https://localhost:8080/",
          "height": 206
        },
        "id": "Eb4yRlOaMw8K",
        "outputId": "ad60129e-5487-4efd-acd7-0746c13c2903"
      },
      "execution_count": 23,
      "outputs": [
        {
          "output_type": "execute_result",
          "data": {
            "text/plain": [
              "         cut  count\n",
              "0    Premium  13791\n",
              "1      Ideal  21551\n",
              "2       Good   4906\n",
              "3       Fair   1610\n",
              "4  Very Good  12082"
            ],
            "text/html": [
              "\n",
              "  <div id=\"df-154ba818-436e-4d02-afb5-3abababfd44d\" class=\"colab-df-container\">\n",
              "    <div>\n",
              "<style scoped>\n",
              "    .dataframe tbody tr th:only-of-type {\n",
              "        vertical-align: middle;\n",
              "    }\n",
              "\n",
              "    .dataframe tbody tr th {\n",
              "        vertical-align: top;\n",
              "    }\n",
              "\n",
              "    .dataframe thead th {\n",
              "        text-align: right;\n",
              "    }\n",
              "</style>\n",
              "<table border=\"1\" class=\"dataframe\">\n",
              "  <thead>\n",
              "    <tr style=\"text-align: right;\">\n",
              "      <th></th>\n",
              "      <th>cut</th>\n",
              "      <th>count</th>\n",
              "    </tr>\n",
              "  </thead>\n",
              "  <tbody>\n",
              "    <tr>\n",
              "      <th>0</th>\n",
              "      <td>Premium</td>\n",
              "      <td>13791</td>\n",
              "    </tr>\n",
              "    <tr>\n",
              "      <th>1</th>\n",
              "      <td>Ideal</td>\n",
              "      <td>21551</td>\n",
              "    </tr>\n",
              "    <tr>\n",
              "      <th>2</th>\n",
              "      <td>Good</td>\n",
              "      <td>4906</td>\n",
              "    </tr>\n",
              "    <tr>\n",
              "      <th>3</th>\n",
              "      <td>Fair</td>\n",
              "      <td>1610</td>\n",
              "    </tr>\n",
              "    <tr>\n",
              "      <th>4</th>\n",
              "      <td>Very Good</td>\n",
              "      <td>12082</td>\n",
              "    </tr>\n",
              "  </tbody>\n",
              "</table>\n",
              "</div>\n",
              "    <div class=\"colab-df-buttons\">\n",
              "\n",
              "  <div class=\"colab-df-container\">\n",
              "    <button class=\"colab-df-convert\" onclick=\"convertToInteractive('df-154ba818-436e-4d02-afb5-3abababfd44d')\"\n",
              "            title=\"Convert this dataframe to an interactive table.\"\n",
              "            style=\"display:none;\">\n",
              "\n",
              "  <svg xmlns=\"http://www.w3.org/2000/svg\" height=\"24px\" viewBox=\"0 -960 960 960\">\n",
              "    <path d=\"M120-120v-720h720v720H120Zm60-500h600v-160H180v160Zm220 220h160v-160H400v160Zm0 220h160v-160H400v160ZM180-400h160v-160H180v160Zm440 0h160v-160H620v160ZM180-180h160v-160H180v160Zm440 0h160v-160H620v160Z\"/>\n",
              "  </svg>\n",
              "    </button>\n",
              "\n",
              "  <style>\n",
              "    .colab-df-container {\n",
              "      display:flex;\n",
              "      gap: 12px;\n",
              "    }\n",
              "\n",
              "    .colab-df-convert {\n",
              "      background-color: #E8F0FE;\n",
              "      border: none;\n",
              "      border-radius: 50%;\n",
              "      cursor: pointer;\n",
              "      display: none;\n",
              "      fill: #1967D2;\n",
              "      height: 32px;\n",
              "      padding: 0 0 0 0;\n",
              "      width: 32px;\n",
              "    }\n",
              "\n",
              "    .colab-df-convert:hover {\n",
              "      background-color: #E2EBFA;\n",
              "      box-shadow: 0px 1px 2px rgba(60, 64, 67, 0.3), 0px 1px 3px 1px rgba(60, 64, 67, 0.15);\n",
              "      fill: #174EA6;\n",
              "    }\n",
              "\n",
              "    .colab-df-buttons div {\n",
              "      margin-bottom: 4px;\n",
              "    }\n",
              "\n",
              "    [theme=dark] .colab-df-convert {\n",
              "      background-color: #3B4455;\n",
              "      fill: #D2E3FC;\n",
              "    }\n",
              "\n",
              "    [theme=dark] .colab-df-convert:hover {\n",
              "      background-color: #434B5C;\n",
              "      box-shadow: 0px 1px 3px 1px rgba(0, 0, 0, 0.15);\n",
              "      filter: drop-shadow(0px 1px 2px rgba(0, 0, 0, 0.3));\n",
              "      fill: #FFFFFF;\n",
              "    }\n",
              "  </style>\n",
              "\n",
              "    <script>\n",
              "      const buttonEl =\n",
              "        document.querySelector('#df-154ba818-436e-4d02-afb5-3abababfd44d button.colab-df-convert');\n",
              "      buttonEl.style.display =\n",
              "        google.colab.kernel.accessAllowed ? 'block' : 'none';\n",
              "\n",
              "      async function convertToInteractive(key) {\n",
              "        const element = document.querySelector('#df-154ba818-436e-4d02-afb5-3abababfd44d');\n",
              "        const dataTable =\n",
              "          await google.colab.kernel.invokeFunction('convertToInteractive',\n",
              "                                                    [key], {});\n",
              "        if (!dataTable) return;\n",
              "\n",
              "        const docLinkHtml = 'Like what you see? Visit the ' +\n",
              "          '<a target=\"_blank\" href=https://colab.research.google.com/notebooks/data_table.ipynb>data table notebook</a>'\n",
              "          + ' to learn more about interactive tables.';\n",
              "        element.innerHTML = '';\n",
              "        dataTable['output_type'] = 'display_data';\n",
              "        await google.colab.output.renderOutput(dataTable, element);\n",
              "        const docLink = document.createElement('div');\n",
              "        docLink.innerHTML = docLinkHtml;\n",
              "        element.appendChild(docLink);\n",
              "      }\n",
              "    </script>\n",
              "  </div>\n",
              "\n",
              "\n",
              "<div id=\"df-ba587c01-49c7-4e4c-9dce-bd74ff269f3b\">\n",
              "  <button class=\"colab-df-quickchart\" onclick=\"quickchart('df-ba587c01-49c7-4e4c-9dce-bd74ff269f3b')\"\n",
              "            title=\"Suggest charts\"\n",
              "            style=\"display:none;\">\n",
              "\n",
              "<svg xmlns=\"http://www.w3.org/2000/svg\" height=\"24px\"viewBox=\"0 0 24 24\"\n",
              "     width=\"24px\">\n",
              "    <g>\n",
              "        <path d=\"M19 3H5c-1.1 0-2 .9-2 2v14c0 1.1.9 2 2 2h14c1.1 0 2-.9 2-2V5c0-1.1-.9-2-2-2zM9 17H7v-7h2v7zm4 0h-2V7h2v10zm4 0h-2v-4h2v4z\"/>\n",
              "    </g>\n",
              "</svg>\n",
              "  </button>\n",
              "\n",
              "<style>\n",
              "  .colab-df-quickchart {\n",
              "      --bg-color: #E8F0FE;\n",
              "      --fill-color: #1967D2;\n",
              "      --hover-bg-color: #E2EBFA;\n",
              "      --hover-fill-color: #174EA6;\n",
              "      --disabled-fill-color: #AAA;\n",
              "      --disabled-bg-color: #DDD;\n",
              "  }\n",
              "\n",
              "  [theme=dark] .colab-df-quickchart {\n",
              "      --bg-color: #3B4455;\n",
              "      --fill-color: #D2E3FC;\n",
              "      --hover-bg-color: #434B5C;\n",
              "      --hover-fill-color: #FFFFFF;\n",
              "      --disabled-bg-color: #3B4455;\n",
              "      --disabled-fill-color: #666;\n",
              "  }\n",
              "\n",
              "  .colab-df-quickchart {\n",
              "    background-color: var(--bg-color);\n",
              "    border: none;\n",
              "    border-radius: 50%;\n",
              "    cursor: pointer;\n",
              "    display: none;\n",
              "    fill: var(--fill-color);\n",
              "    height: 32px;\n",
              "    padding: 0;\n",
              "    width: 32px;\n",
              "  }\n",
              "\n",
              "  .colab-df-quickchart:hover {\n",
              "    background-color: var(--hover-bg-color);\n",
              "    box-shadow: 0 1px 2px rgba(60, 64, 67, 0.3), 0 1px 3px 1px rgba(60, 64, 67, 0.15);\n",
              "    fill: var(--button-hover-fill-color);\n",
              "  }\n",
              "\n",
              "  .colab-df-quickchart-complete:disabled,\n",
              "  .colab-df-quickchart-complete:disabled:hover {\n",
              "    background-color: var(--disabled-bg-color);\n",
              "    fill: var(--disabled-fill-color);\n",
              "    box-shadow: none;\n",
              "  }\n",
              "\n",
              "  .colab-df-spinner {\n",
              "    border: 2px solid var(--fill-color);\n",
              "    border-color: transparent;\n",
              "    border-bottom-color: var(--fill-color);\n",
              "    animation:\n",
              "      spin 1s steps(1) infinite;\n",
              "  }\n",
              "\n",
              "  @keyframes spin {\n",
              "    0% {\n",
              "      border-color: transparent;\n",
              "      border-bottom-color: var(--fill-color);\n",
              "      border-left-color: var(--fill-color);\n",
              "    }\n",
              "    20% {\n",
              "      border-color: transparent;\n",
              "      border-left-color: var(--fill-color);\n",
              "      border-top-color: var(--fill-color);\n",
              "    }\n",
              "    30% {\n",
              "      border-color: transparent;\n",
              "      border-left-color: var(--fill-color);\n",
              "      border-top-color: var(--fill-color);\n",
              "      border-right-color: var(--fill-color);\n",
              "    }\n",
              "    40% {\n",
              "      border-color: transparent;\n",
              "      border-right-color: var(--fill-color);\n",
              "      border-top-color: var(--fill-color);\n",
              "    }\n",
              "    60% {\n",
              "      border-color: transparent;\n",
              "      border-right-color: var(--fill-color);\n",
              "    }\n",
              "    80% {\n",
              "      border-color: transparent;\n",
              "      border-right-color: var(--fill-color);\n",
              "      border-bottom-color: var(--fill-color);\n",
              "    }\n",
              "    90% {\n",
              "      border-color: transparent;\n",
              "      border-bottom-color: var(--fill-color);\n",
              "    }\n",
              "  }\n",
              "</style>\n",
              "\n",
              "  <script>\n",
              "    async function quickchart(key) {\n",
              "      const quickchartButtonEl =\n",
              "        document.querySelector('#' + key + ' button');\n",
              "      quickchartButtonEl.disabled = true;  // To prevent multiple clicks.\n",
              "      quickchartButtonEl.classList.add('colab-df-spinner');\n",
              "      try {\n",
              "        const charts = await google.colab.kernel.invokeFunction(\n",
              "            'suggestCharts', [key], {});\n",
              "      } catch (error) {\n",
              "        console.error('Error during call to suggestCharts:', error);\n",
              "      }\n",
              "      quickchartButtonEl.classList.remove('colab-df-spinner');\n",
              "      quickchartButtonEl.classList.add('colab-df-quickchart-complete');\n",
              "    }\n",
              "    (() => {\n",
              "      let quickchartButtonEl =\n",
              "        document.querySelector('#df-ba587c01-49c7-4e4c-9dce-bd74ff269f3b button');\n",
              "      quickchartButtonEl.style.display =\n",
              "        google.colab.kernel.accessAllowed ? 'block' : 'none';\n",
              "    })();\n",
              "  </script>\n",
              "</div>\n",
              "\n",
              "  <div id=\"id_a14ba60f-521d-42d0-9d56-97ba76ffcd1c\">\n",
              "    <style>\n",
              "      .colab-df-generate {\n",
              "        background-color: #E8F0FE;\n",
              "        border: none;\n",
              "        border-radius: 50%;\n",
              "        cursor: pointer;\n",
              "        display: none;\n",
              "        fill: #1967D2;\n",
              "        height: 32px;\n",
              "        padding: 0 0 0 0;\n",
              "        width: 32px;\n",
              "      }\n",
              "\n",
              "      .colab-df-generate:hover {\n",
              "        background-color: #E2EBFA;\n",
              "        box-shadow: 0px 1px 2px rgba(60, 64, 67, 0.3), 0px 1px 3px 1px rgba(60, 64, 67, 0.15);\n",
              "        fill: #174EA6;\n",
              "      }\n",
              "\n",
              "      [theme=dark] .colab-df-generate {\n",
              "        background-color: #3B4455;\n",
              "        fill: #D2E3FC;\n",
              "      }\n",
              "\n",
              "      [theme=dark] .colab-df-generate:hover {\n",
              "        background-color: #434B5C;\n",
              "        box-shadow: 0px 1px 3px 1px rgba(0, 0, 0, 0.15);\n",
              "        filter: drop-shadow(0px 1px 2px rgba(0, 0, 0, 0.3));\n",
              "        fill: #FFFFFF;\n",
              "      }\n",
              "    </style>\n",
              "    <button class=\"colab-df-generate\" onclick=\"generateWithVariable('df')\"\n",
              "            title=\"Generate code using this dataframe.\"\n",
              "            style=\"display:none;\">\n",
              "\n",
              "  <svg xmlns=\"http://www.w3.org/2000/svg\" height=\"24px\"viewBox=\"0 0 24 24\"\n",
              "       width=\"24px\">\n",
              "    <path d=\"M7,19H8.4L18.45,9,17,7.55,7,17.6ZM5,21V16.75L18.45,3.32a2,2,0,0,1,2.83,0l1.4,1.43a1.91,1.91,0,0,1,.58,1.4,1.91,1.91,0,0,1-.58,1.4L9.25,21ZM18.45,9,17,7.55Zm-12,3A5.31,5.31,0,0,0,4.9,8.1,5.31,5.31,0,0,0,1,6.5,5.31,5.31,0,0,0,4.9,4.9,5.31,5.31,0,0,0,6.5,1,5.31,5.31,0,0,0,8.1,4.9,5.31,5.31,0,0,0,12,6.5,5.46,5.46,0,0,0,6.5,12Z\"/>\n",
              "  </svg>\n",
              "    </button>\n",
              "    <script>\n",
              "      (() => {\n",
              "      const buttonEl =\n",
              "        document.querySelector('#id_a14ba60f-521d-42d0-9d56-97ba76ffcd1c button.colab-df-generate');\n",
              "      buttonEl.style.display =\n",
              "        google.colab.kernel.accessAllowed ? 'block' : 'none';\n",
              "\n",
              "      buttonEl.onclick = () => {\n",
              "        google.colab.notebook.generateWithVariable('df');\n",
              "      }\n",
              "      })();\n",
              "    </script>\n",
              "  </div>\n",
              "\n",
              "    </div>\n",
              "  </div>\n"
            ],
            "application/vnd.google.colaboratory.intrinsic+json": {
              "type": "dataframe",
              "variable_name": "df",
              "summary": "{\n  \"name\": \"df\",\n  \"rows\": 5,\n  \"fields\": [\n    {\n      \"column\": \"cut\",\n      \"properties\": {\n        \"dtype\": \"string\",\n        \"num_unique_values\": 5,\n        \"samples\": [\n          \"Ideal\",\n          \"Very Good\",\n          \"Good\"\n        ],\n        \"semantic_type\": \"\",\n        \"description\": \"\"\n      }\n    },\n    {\n      \"column\": \"count\",\n      \"properties\": {\n        \"dtype\": \"number\",\n        \"std\": 7832,\n        \"min\": 1610,\n        \"max\": 21551,\n        \"num_unique_values\": 5,\n        \"samples\": [\n          21551,\n          12082,\n          4906\n        ],\n        \"semantic_type\": \"\",\n        \"description\": \"\"\n      }\n    }\n  ]\n}"
            }
          },
          "metadata": {},
          "execution_count": 23
        }
      ]
    },
    {
      "source": [
        "# @title cut\n",
        "\n",
        "from matplotlib import pyplot as plt\n",
        "import seaborn as sns\n",
        "df.groupby('cut').size().plot(kind='barh', color=sns.palettes.mpl_palette('Dark2'))\n",
        "plt.gca().spines[['top', 'right',]].set_visible(False)"
      ],
      "cell_type": "code",
      "execution_count": 24,
      "outputs": [
        {
          "output_type": "display_data",
          "data": {
            "text/plain": [
              "<Figure size 640x480 with 1 Axes>"
            ],
            "image/png": "[encoded data removed]"
          },
          "metadata": {}
        }
      ],
      "metadata": {
        "colab": {
          "base_uri": "https://localhost:8080/",
          "height": 430
        },
        "id": "rX6bgYAiU_QW",
        "outputId": "72e9aa8e-fa26-4189-c26a-214a45f507c6"
      }
    },
    {
      "cell_type": "code",
      "source": [
        "sns.barplot(data = df, x = \"cut\", y = \"count\")"
      ],
      "metadata": {
        "colab": {
          "base_uri": "https://localhost:8080/",
          "height": 466
        },
        "id": "kWfH4gwIM3A7",
        "outputId": "bb7d7514-0bcb-4dc2-be82-7b9dd229b3f2"
      },
      "execution_count": 25,
      "outputs": [
        {
          "output_type": "execute_result",
          "data": {
            "text/plain": [
              "<Axes: xlabel='cut', ylabel='count'>"
            ]
          },
          "metadata": {},
          "execution_count": 25
        },
        {
          "output_type": "display_data",
          "data": {
            "text/plain": [
              "<Figure size 640x480 with 1 Axes>"
            ],
            "image/png": "[encoded data removed]"
          },
          "metadata": {}
        }
      ]
    },
    {
      "cell_type": "code",
      "source": [
        "from pyspark.ml.feature import VectorAssembler\n",
        "from pyspark.ml.feature import VectorIndexer\n",
        "from pyspark.ml.feature import OneHotEncoder\n",
        "from pyspark.ml.feature import StringIndexer"
      ],
      "metadata": {
        "id": "usBL9NY_M-VX"
      },
      "execution_count": 26,
      "outputs": []
    },
    {
      "cell_type": "code",
      "source": [
        "string_cols"
      ],
      "metadata": {
        "colab": {
          "base_uri": "https://localhost:8080/"
        },
        "id": "99Adg1zVM_Xr",
        "outputId": "3661270f-658f-4e07-98b3-0e33111d03ef"
      },
      "execution_count": 27,
      "outputs": [
        {
          "output_type": "execute_result",
          "data": {
            "text/plain": [
              "['cut', 'color', 'clarity']"
            ]
          },
          "metadata": {},
          "execution_count": 27
        }
      ]
    },
    {
      "cell_type": "code",
      "source": [
        "for col in string_cols:\n",
        "    indexer = StringIndexer(inputCol = f\"{col}\", outputCol = f\"{col}Index\")\n",
        "    encoder = OneHotEncoder(inputCol = f\"{col}Index\", outputCol = f\"{col}Vec\")\n",
        "    data = indexer.fit(data).transform(data)\n",
        "    data = encoder.fit(data).transform(data)"
      ],
      "metadata": {
        "id": "6aUO0eXtNBKZ"
      },
      "execution_count": 28,
      "outputs": []
    },
    {
      "cell_type": "code",
      "source": [
        "data.show()"
      ],
      "metadata": {
        "colab": {
          "base_uri": "https://localhost:8080/"
        },
        "id": "z17P30fiNDiv",
        "outputId": "e9172d1f-810c-4897-9290-a036d897fbdd"
      },
      "execution_count": 29,
      "outputs": [
        {
          "output_type": "stream",
          "name": "stdout",
          "text": [
            "+-----+---------+-----+-------+-----+-----+-----+----+----+----+--------+-------------+----------+-------------+------------+-------------+\n",
            "|carat|      cut|color|clarity|depth|table|price|   x|   y|   z|cutIndex|       cutVec|colorIndex|     colorVec|clarityIndex|   clarityVec|\n",
            "+-----+---------+-----+-------+-----+-----+-----+----+----+----+--------+-------------+----------+-------------+------------+-------------+\n",
            "| 0.23|    Ideal|    E|    SI2| 61.5| 55.0|  326|3.95|3.98|2.43|     0.0|(4,[0],[1.0])|       1.0|(6,[1],[1.0])|         2.0|(7,[2],[1.0])|\n",
            "| 0.21|  Premium|    E|    SI1| 59.8| 61.0|  326|3.89|3.84|2.31|     1.0|(4,[1],[1.0])|       1.0|(6,[1],[1.0])|         0.0|(7,[0],[1.0])|\n",
            "| 0.23|     Good|    E|    VS1| 56.9| 65.0|  327|4.05|4.07|2.31|     3.0|(4,[3],[1.0])|       1.0|(6,[1],[1.0])|         3.0|(7,[3],[1.0])|\n",
            "| 0.29|  Premium|    I|    VS2| 62.4| 58.0|  334| 4.2|4.23|2.63|     1.0|(4,[1],[1.0])|       5.0|(6,[5],[1.0])|         1.0|(7,[1],[1.0])|\n",
            "| 0.31|     Good|    J|    SI2| 63.3| 58.0|  335|4.34|4.35|2.75|     3.0|(4,[3],[1.0])|       6.0|    (6,[],[])|         2.0|(7,[2],[1.0])|\n",
            "| 0.24|Very Good|    J|   VVS2| 62.8| 57.0|  336|3.94|3.96|2.48|     2.0|(4,[2],[1.0])|       6.0|    (6,[],[])|         4.0|(7,[4],[1.0])|\n",
            "| 0.24|Very Good|    I|   VVS1| 62.3| 57.0|  336|3.95|3.98|2.47|     2.0|(4,[2],[1.0])|       5.0|(6,[5],[1.0])|         5.0|(7,[5],[1.0])|\n",
            "| 0.26|Very Good|    H|    SI1| 61.9| 55.0|  337|4.07|4.11|2.53|     2.0|(4,[2],[1.0])|       3.0|(6,[3],[1.0])|         0.0|(7,[0],[1.0])|\n",
            "| 0.22|     Fair|    E|    VS2| 65.1| 61.0|  337|3.87|3.78|2.49|     4.0|    (4,[],[])|       1.0|(6,[1],[1.0])|         1.0|(7,[1],[1.0])|\n",
            "| 0.23|Very Good|    H|    VS1| 59.4| 61.0|  338| 4.0|4.05|2.39|     2.0|(4,[2],[1.0])|       3.0|(6,[3],[1.0])|         3.0|(7,[3],[1.0])|\n",
            "|  0.3|     Good|    J|    SI1| 64.0| 55.0|  339|4.25|4.28|2.73|     3.0|(4,[3],[1.0])|       6.0|    (6,[],[])|         0.0|(7,[0],[1.0])|\n",
            "| 0.23|    Ideal|    J|    VS1| 62.8| 56.0|  340|3.93| 3.9|2.46|     0.0|(4,[0],[1.0])|       6.0|    (6,[],[])|         3.0|(7,[3],[1.0])|\n",
            "| 0.22|  Premium|    F|    SI1| 60.4| 61.0|  342|3.88|3.84|2.33|     1.0|(4,[1],[1.0])|       2.0|(6,[2],[1.0])|         0.0|(7,[0],[1.0])|\n",
            "| 0.31|    Ideal|    J|    SI2| 62.2| 54.0|  344|4.35|4.37|2.71|     0.0|(4,[0],[1.0])|       6.0|    (6,[],[])|         2.0|(7,[2],[1.0])|\n",
            "|  0.2|  Premium|    E|    SI2| 60.2| 62.0|  345|3.79|3.75|2.27|     1.0|(4,[1],[1.0])|       1.0|(6,[1],[1.0])|         2.0|(7,[2],[1.0])|\n",
            "| 0.32|  Premium|    E|     I1| 60.9| 58.0|  345|4.38|4.42|2.68|     1.0|(4,[1],[1.0])|       1.0|(6,[1],[1.0])|         7.0|    (7,[],[])|\n",
            "|  0.3|    Ideal|    I|    SI2| 62.0| 54.0|  348|4.31|4.34|2.68|     0.0|(4,[0],[1.0])|       5.0|(6,[5],[1.0])|         2.0|(7,[2],[1.0])|\n",
            "|  0.3|     Good|    J|    SI1| 63.4| 54.0|  351|4.23|4.29| 2.7|     3.0|(4,[3],[1.0])|       6.0|    (6,[],[])|         0.0|(7,[0],[1.0])|\n",
            "|  0.3|     Good|    J|    SI1| 63.8| 56.0|  351|4.23|4.26|2.71|     3.0|(4,[3],[1.0])|       6.0|    (6,[],[])|         0.0|(7,[0],[1.0])|\n",
            "|  0.3|Very Good|    J|    SI1| 62.7| 59.0|  351|4.21|4.27|2.66|     2.0|(4,[2],[1.0])|       6.0|    (6,[],[])|         0.0|(7,[0],[1.0])|\n",
            "+-----+---------+-----+-------+-----+-----+-----+----+----+----+--------+-------------+----------+-------------+------------+-------------+\n",
            "only showing top 20 rows\n",
            "\n"
          ]
        }
      ]
    },
    {
      "cell_type": "code",
      "source": [
        "from pyspark.ml.linalg import Vectors\n",
        "from pyspark.ml.feature import VectorAssembler\n",
        "from pyspark.ml.regression import LinearRegression"
      ],
      "metadata": {
        "id": "H8j3kPrANFWV"
      },
      "execution_count": 30,
      "outputs": []
    },
    {
      "cell_type": "code",
      "source": [
        "cols_keeps = numeric_cols + [col for col in data.columns if \"vec\" in col.lower()]"
      ],
      "metadata": {
        "id": "QENHEofzNICt"
      },
      "execution_count": 31,
      "outputs": []
    },
    {
      "cell_type": "code",
      "source": [
        "assembler = VectorAssembler(inputCols = cols_keeps,\n",
        "                            outputCol = \"features\")\n",
        "\n",
        "output = assembler.transform(data)"
      ],
      "metadata": {
        "id": "_HPFHZXCNK-W"
      },
      "execution_count": 32,
      "outputs": []
    },
    {
      "cell_type": "code",
      "source": [
        "train, test = output.randomSplit(weights = [0.7, 0.3], seed = 42)"
      ],
      "metadata": {
        "id": "7SWy-f0pNLv_"
      },
      "execution_count": 33,
      "outputs": []
    },
    {
      "cell_type": "code",
      "source": [
        "lr = LinearRegression(featuresCol = \"features\", labelCol = \"price\", predictionCol = \"prediction\")\n",
        "\n",
        "model = lr.fit(train)"
      ],
      "metadata": {
        "id": "HSkeKWyhNNk6"
      },
      "execution_count": 34,
      "outputs": []
    },
    {
      "cell_type": "code",
      "source": [
        "predictions = model.evaluate(test)"
      ],
      "metadata": {
        "id": "BBZbD2dBNPyB"
      },
      "execution_count": 35,
      "outputs": []
    },
    {
      "cell_type": "code",
      "source": [
        "print(\"RMSE: {}\".format(predictions.rootMeanSquaredError))\n",
        "print(\"MSE: {}\".format(predictions.meanSquaredError))\n",
        "print(\"r2: {}\".format(predictions.r2))"
      ],
      "metadata": {
        "colab": {
          "base_uri": "https://localhost:8080/"
        },
        "id": "917QxbAFNSKU",
        "outputId": "8aacbed8-a924-4aec-edbb-e6c921062382"
      },
      "execution_count": 36,
      "outputs": [
        {
          "output_type": "stream",
          "name": "stdout",
          "text": [
            "RMSE: 1132.113035379665\n",
            "MSE: 1281679.9248765588\n",
            "r2: 0.9214169256291955\n"
          ]
        }
      ]
    },
    {
      "cell_type": "code",
      "source": [
        "predictions_df = predictions.predictions.select(\"price\", \"prediction\").toPandas()"
      ],
      "metadata": {
        "id": "tMfZUyG8NYGp"
      },
      "execution_count": 37,
      "outputs": []
    },
    {
      "cell_type": "code",
      "source": [
        "predictions_df.plot.scatter(x = \"price\", y = \"prediction\")"
      ],
      "metadata": {
        "colab": {
          "base_uri": "https://localhost:8080/",
          "height": 468
        },
        "id": "uERXhYKBNYqm",
        "outputId": "0ef10e46-aef4-4011-b21e-8ae7cf2f9510"
      },
      "execution_count": 38,
      "outputs": [
        {
          "output_type": "execute_result",
          "data": {
            "text/plain": [
              "<Axes: xlabel='price', ylabel='prediction'>"
            ]
          },
          "metadata": {},
          "execution_count": 38
        },
        {
          "output_type": "display_data",
          "data": {
            "text/plain": [
              "<Figure size 640x480 with 1 Axes>"
            ],
            "image/png": "[encoded data removed]"
          },
          "metadata": {}
        }
      ]
    },
    {
      "cell_type": "code",
      "source": [
        "# Polynomial expansion\n",
        "from pyspark.ml.feature import PolynomialExpansion\n",
        "polyExpansion = PolynomialExpansion(degree=2, inputCol=\"features\", outputCol=\"polyFeatures\")\n",
        "polyOutput = polyExpansion.transform(output)"
      ],
      "metadata": {
        "id": "0NvoEcztX7kO"
      },
      "execution_count": 39,
      "outputs": []
    },
    {
      "cell_type": "code",
      "source": [
        "# Split data into training and testing sets\n",
        "train, test = polyOutput.randomSplit(weights=[0.7, 0.3], seed=42)"
      ],
      "metadata": {
        "id": "bue_N8KnZ4AB"
      },
      "execution_count": 40,
      "outputs": []
    },
    {
      "cell_type": "code",
      "source": [
        "# Train linear regression model\n",
        "lr = LinearRegression(featuresCol=\"polyFeatures\", labelCol=\"price\", predictionCol=\"prediction\")\n",
        "model = lr.fit(train)"
      ],
      "metadata": {
        "id": "H8gyMKsQZ8gC"
      },
      "execution_count": 41,
      "outputs": []
    },
    {
      "cell_type": "code",
      "source": [
        "# Evaluate the model\n",
        "predictions = model.evaluate(test)\n",
        "print(\"RMSE: {}\".format(predictions.rootMeanSquaredError))\n",
        "print(\"MSE: {}\".format(predictions.meanSquaredError))\n",
        "print(\"r2: {}\".format(predictions.r2))"
      ],
      "metadata": {
        "colab": {
          "base_uri": "https://localhost:8080/"
        },
        "id": "pDMt8_25aFAx",
        "outputId": "1fbcd7a2-67dc-426c-ed20-dd57b6b3fa35"
      },
      "execution_count": 42,
      "outputs": [
        {
          "output_type": "stream",
          "name": "stdout",
          "text": [
            "RMSE: 972.3562635494721\n",
            "MSE: 945476.7032638905\n",
            "r2: 0.9420304050595119\n"
          ]
        }
      ]
    },
    {
      "cell_type": "code",
      "source": [
        "# Plot predictions vs actual prices\n",
        "predictions_df = predictions.predictions.select(\"price\", \"prediction\").toPandas()\n",
        "predictions_df.plot.scatter(x=\"price\", y=\"prediction\")\n",
        "plt.show()"
      ],
      "metadata": {
        "colab": {
          "base_uri": "https://localhost:8080/",
          "height": 449
        },
        "id": "slvzWn5UaIfh",
        "outputId": "63409bc6-ddfe-4051-a655-9f0e6608c308"
      },
      "execution_count": 43,
      "outputs": [
        {
          "output_type": "display_data",
          "data": {
            "text/plain": [
              "<Figure size 640x480 with 1 Axes>"
            ],
            "image/png": "[encoded data removed]"
          },
          "metadata": {}
        }
      ]
    },
    {
      "cell_type": "code",
      "source": [
        "# Plot predictions vs actual prices\n",
        "predictions_df = predictions.predictions.select(\"price\", \"prediction\").toPandas()\n",
        "predictions_df.plot.scatter(x=\"price\", y=\"prediction\")\n",
        "plt.xlabel(\"Actual Price\")\n",
        "plt.ylabel(\"Predicted Price\")\n",
        "plt.title(\"Actual vs Predicted Prices\")\n",
        "plt.show()"
      ],
      "metadata": {
        "colab": {
          "base_uri": "https://localhost:8080/",
          "height": 472
        },
        "id": "JPzZOxuRb_rL",
        "outputId": "65ec62fb-651b-4242-f142-34a94fc44762"
      },
      "execution_count": 44,
      "outputs": [
        {
          "output_type": "display_data",
          "data": {
            "text/plain": [
              "<Figure size 640x480 with 1 Axes>"
            ],
            "image/png": "[encoded data removed]"
          },
          "metadata": {}
        }
      ]
    }
  ]
}